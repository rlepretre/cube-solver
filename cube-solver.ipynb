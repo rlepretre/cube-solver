{
 "cells": [
  {
   "cell_type": "raw",
   "metadata": {},
   "source": [
    "         Positions                                Solution State\n",
    "\n",
    "         +--------+                               +--------+\n",
    "         | 0    1 |                               | A    A |\n",
    "         |   d1   |                               |   d1   |\n",
    "         | 2    3 |                               | A    A |\n",
    "+--------+--------+--------+--------+    +--------+--------+--------+--------+\n",
    "| 16  17 | 4    5 | 8   9  | 12  13 |    | E    E | B    B | C    C | D    D |\n",
    "|   r1   |   f0   |   r0   |   f1   |    |   r1   |   f0   |   r0   |   f1   |\n",
    "| 18  19 | 6    7 | 10  11 | 14  15 |    | E    E | B    B | C    C | D    D |\n",
    "+--------+--------+--------+--------+    +--------+--------+--------+--------+\n",
    "         | 20  21 |                               | F    F |\n",
    "         |   d0   |                               |   d0   |\n",
    "         | 22  23 |                               | F    F |\n",
    "         +--------+                               +--------+"
   ]
  },
  {
   "cell_type": "code",
   "execution_count": 1,
   "metadata": {},
   "outputs": [],
   "source": [
    "import numpy as np\n",
    "import random\n",
    "import itertools as it\n",
    "from sympy.combinatorics import Permutation\n",
    "import gymnasium as gym\n",
    "from gymnasium import spaces\n",
    "\n",
    "\n",
    "\n",
    "COLOR_MAP = {\n",
    "    \"W\" :0,\n",
    "    \"G\" :1,\n",
    "    \"R\" :2,\n",
    "    \"B\" :3,\n",
    "    \"O\" :4,\n",
    "    \"Y\" :5\n",
    "    }\n",
    "\n",
    "FACES = [\"WWWW\", \"GGGG\", \"RRRR\", \"BBBB\", \"OOOO\", \"YYYY\"]\n",
    "SOLVED_STATE_COLOR = [''.join(faces) for faces in it.permutations(FACES)]\n",
    "SOLVED_STATE_INDEX = np.empty((720,24))\n",
    "\n",
    "for i,s in enumerate(SOLVED_STATE_COLOR):\n",
    "    for j,c in enumerate(s):\n",
    "        SOLVED_STATE_INDEX[i,j] = COLOR_MAP[c]\n",
    "\n",
    "class Cube2x2Env(gym.Env):\n",
    "\n",
    "    def __init__(self):\n",
    "        self.move_count = 0\n",
    "        self._action_to_move = {\n",
    "            0: Permutation(23)(2, 19, 21, 8)(3, 17, 20, 10)(4, 6, 7, 5),\n",
    "            1: Permutation(0, 18, 23, 9)(1, 16, 22, 11)(12, 13, 15, 14),\n",
    "            2: Permutation(1, 5, 21, 14)(3, 7, 23, 12)(8, 10, 11, 9),\n",
    "            3: Permutation(23)(0, 4, 20, 15)(2, 6, 22, 13)(16, 17, 19, 18),\n",
    "            4: Permutation(6, 18, 14, 10)(7, 19, 15, 11)(20, 22, 23, 21),\n",
    "            5: Permutation(23)(0, 1, 3, 2)(4, 16, 12, 8)(5, 17, 13, 9)\n",
    "        }\n",
    "\n",
    "        self.steps_from_solved = 1\n",
    "        \n",
    "        self.action_space = spaces.Discrete(6)\n",
    "        self.observation_space = spaces.Box(0, 5, shape=(24,), dtype=np.uint8)\n",
    "   \n",
    "        self.state = self.scramble()\n",
    "\n",
    "    def step(self, action):\n",
    "        truncated = False\n",
    "        move = self._action_to_move[action]\n",
    "        self.state = move(self.state)\n",
    "        self.move_count += 1\n",
    "        # Calculate reward\n",
    "        if np.any(np.all(self.state == SOLVED_STATE_INDEX, axis=1)): \n",
    "            reward = 100\n",
    "            done = True\n",
    "        else: \n",
    "            done = False\n",
    "            reward = -1 \n",
    "        \n",
    "        if self.move_count > 1000:\n",
    "            truncated = True\n",
    "        # Return step information\n",
    "        return np.array(self.state), reward, done, truncated, {}\n",
    "    \n",
    "    def scramble(self):\n",
    "        state = SOLVED_STATE_INDEX[0]\n",
    "        for i in range(self.steps_from_solved):\n",
    "            move = self._action_to_move[random.randint(0,5)]\n",
    "            state = move(state)\n",
    "        if np.any(np.all(state == SOLVED_STATE_INDEX, axis=1)):\n",
    "            self.scramble()\n",
    "        return np.array(state, dtype=np.uint8)\n",
    "    \n",
    "    def reset(self, seed=None):\n",
    "        # Reset shower temperature\n",
    "        self.state = self.scramble()\n",
    "        # Reset shower time\n",
    "        self.move_count = 0 \n",
    "        return self.state, {}\n",
    "\n",
    "\n",
    "        \n",
    "\n",
    "    def __repr__(self):\n",
    "        ascii = '''\n",
    "         +--------+                    \n",
    "         | {0}    {1} |                    \n",
    "         |   d1   |                    \n",
    "         | {2}    {3} |                    \n",
    "+--------+--------+--------+--------+  \n",
    "| {16}    {17} | {4}    {5} | {8}    {9} | {12}    {13} |  \n",
    "|   r1   |   f0   |   r0   |   f1   |  \n",
    "| {18}    {19} | {6}    {7} | {10}    {11} | {14}    {15} |  \n",
    "+--------+--------+--------+--------+  \n",
    "         | {20}    {21} |                    \n",
    "         |   d0   |                    \n",
    "         | {22}    {23} |                    \n",
    "         +--------+                    \n",
    "\n",
    "      '''\n",
    "        return ascii.format(*self.state)\n",
    "        \n"
   ]
  },
  {
   "cell_type": "code",
   "execution_count": 2,
   "metadata": {},
   "outputs": [],
   "source": [
    "env = Cube2x2Env()"
   ]
  },
  {
   "cell_type": "markdown",
   "metadata": {},
   "source": [
    "# Create the neural network"
   ]
  },
  {
   "cell_type": "code",
   "execution_count": 18,
   "metadata": {},
   "outputs": [],
   "source": [
    "import torchi\n"
   ]
  },
  {
   "cell_type": "code",
   "execution_count": 27,
   "metadata": {},
   "outputs": [],
   "source": [
    "import torch\n",
    "\n",
    "input_layer = torch.tensor(env.state, dtype=torch.float)\n",
    "\n",
    "W1 = torch.randn(24,72)\n",
    "B1 = torch.randn(1,72)\n",
    "W2 = torch.randn(72,72)\n",
    "B2 = torch.randn(1,72)\n",
    "W3 = torch.randn(72,6)\n",
    "B3 = torch.randn(1,6)\n",
    "\n",
    "layer1 = torch.tanh(input_layer @ W1 + B1)\n",
    "layer2 = torch.tanh(layer1 @ W2 + B2)\n",
    "logits = torch.softmax(layer2 @ W3 + B3, dim=1)"
   ]
  },
  {
   "cell_type": "code",
   "execution_count": 37,
   "metadata": {},
   "outputs": [],
   "source": []
  },
  {
   "cell_type": "code",
   "execution_count": 39,
   "metadata": {},
   "outputs": [
    {
     "data": {
      "text/plain": [
       "tensor([[3.8544e-05, 6.9670e-01, 1.4711e-02, 1.2641e-02, 1.8972e-04, 2.7572e-01]])"
      ]
     },
     "execution_count": 39,
     "metadata": {},
     "output_type": "execute_result"
    }
   ],
   "source": [
    "logits"
   ]
  },
  {
   "cell_type": "code",
   "execution_count": null,
   "metadata": {},
   "outputs": [],
   "source": []
  }
 ],
 "metadata": {
  "kernelspec": {
   "display_name": "Python 3 (ipykernel)",
   "language": "python",
   "name": "python3"
  },
  "language_info": {
   "codemirror_mode": {
    "name": "ipython",
    "version": 3
   },
   "file_extension": ".py",
   "mimetype": "text/x-python",
   "name": "python",
   "nbconvert_exporter": "python",
   "pygments_lexer": "ipython3",
   "version": "3.11.7"
  }
 },
 "nbformat": 4,
 "nbformat_minor": 4
}
