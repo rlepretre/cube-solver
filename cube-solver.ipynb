{
 "cells": [
  {
   "cell_type": "markdown",
   "id": "c9500da4",
   "metadata": {},
   "source": [
    "# Environment\n",
    "First we need to describe the environment in which the model is going to be trained (relevant informations to do so [here](https://gymnasium.farama.org/tutorials/gymnasium_basics/environment_creation/))"
   ]
  },
  {
   "cell_type": "code",
   "execution_count": 1,
   "id": "eb30827a",
   "metadata": {
    "_cell_guid": "b1076dfc-b9ad-4769-8c92-a6c4dae69d19",
    "_uuid": "8f2839f25d086af736a60e9eeb907d3b93b6e0e5",
    "execution": {
     "iopub.execute_input": "2024-01-10T14:09:04.405131Z",
     "iopub.status.busy": "2024-01-10T14:09:04.404590Z",
     "iopub.status.idle": "2024-01-10T14:09:06.450967Z",
     "shell.execute_reply": "2024-01-10T14:09:06.448923Z"
    },
    "papermill": {
     "duration": 2.056336,
     "end_time": "2024-01-10T14:09:06.454573",
     "exception": false,
     "start_time": "2024-01-10T14:09:04.398237",
     "status": "completed"
    },
    "tags": []
   },
   "outputs": [],
   "source": [
    "import numpy as np\n",
    "import random\n",
    "import itertools as it\n",
    "from sympy.combinatorics import Permutation\n",
    "import gymnasium as gym\n",
    "from gymnasium import spaces\n",
    "\n",
    "\n",
    "\n",
    "COLOR_MAP = {\n",
    "    \"W\" :0,\n",
    "    \"G\" :1,\n",
    "    \"R\" :2,\n",
    "    \"B\" :3,\n",
    "    \"O\" :4,\n",
    "    \"Y\" :5\n",
    "    }\n",
    "\n",
    "FACES = [\"WWWW\", \"GGGG\", \"RRRR\", \"BBBB\", \"OOOO\", \"YYYY\"]\n",
    "SOLVED_STATE_COLOR = [''.join(faces) for faces in it.permutations(FACES)]\n",
    "SOLVED_STATE_INDEX = np.empty((720,24))\n",
    "\n",
    "for i,s in enumerate(SOLVED_STATE_COLOR):\n",
    "    for j,c in enumerate(s):\n",
    "        SOLVED_STATE_INDEX[i,j] = COLOR_MAP[c]\n",
    "\n",
    "class Cube2x2Env(gym.Env):\n",
    "\n",
    "    def __init__(self):\n",
    "        self.move_count = 0\n",
    "        self._action_to_move = {\n",
    "            0: Permutation(23)(2, 19, 21, 8)(3, 17, 20, 10)(4, 6, 7, 5),\n",
    "            1: Permutation(0, 18, 23, 9)(1, 16, 22, 11)(12, 13, 15, 14),\n",
    "            2: Permutation(1, 5, 21, 14)(3, 7, 23, 12)(8, 10, 11, 9),\n",
    "            3: Permutation(23)(0, 4, 20, 15)(2, 6, 22, 13)(16, 17, 19, 18),\n",
    "            4: Permutation(6, 18, 14, 10)(7, 19, 15, 11)(20, 22, 23, 21),\n",
    "            5: Permutation(23)(0, 1, 3, 2)(4, 16, 12, 8)(5, 17, 13, 9)\n",
    "        }\n",
    "\n",
    "        self.steps_from_solved = 1\n",
    "        \n",
    "        self.action_space = spaces.Discrete(6)\n",
    "        self.observation_space = spaces.Box(0, 5, shape=(24,), dtype=np.uint8)\n",
    "   \n",
    "        self.state = self.scramble()\n",
    "\n",
    "    def step(self, action):\n",
    "        truncated = False\n",
    "        move = self._action_to_move[action]\n",
    "        self.state = move(self.state)\n",
    "        self.move_count += 1\n",
    "        # Calculate reward\n",
    "        if np.any(np.all(self.state == SOLVED_STATE_INDEX, axis=1)): \n",
    "            reward = 1000\n",
    "            done = True\n",
    "        else: \n",
    "            done = False\n",
    "            reward = -1 \n",
    "        \n",
    "        if self.move_count > 1000:\n",
    "            truncated = True\n",
    "        # Return step information\n",
    "        return np.array(self.state), reward, done, truncated, {}\n",
    "    \n",
    "    def scramble(self):\n",
    "        state = SOLVED_STATE_INDEX[0]\n",
    "        for i in range(self.steps_from_solved):\n",
    "            move = self._action_to_move[random.randint(0,5)]\n",
    "            state = move(state)\n",
    "        if np.any(np.all(state == SOLVED_STATE_INDEX, axis=1)):\n",
    "            self.scramble()\n",
    "        return np.array(state, dtype=np.uint8)\n",
    "    \n",
    "    def reset(self, seed=None):\n",
    "        # Reset shower temperature\n",
    "        self.state = self.scramble()\n",
    "        # Reset shower time\n",
    "        self.move_count = 0 \n",
    "        return self.state, {}\n",
    "\n",
    "\n",
    "        \n",
    "\n",
    "    def __repr__(self):\n",
    "        ascii = '''\n",
    "         +--------+                    \n",
    "         | {0}    {1} |                    \n",
    "         |   d1   |                    \n",
    "         | {2}    {3} |                    \n",
    "+--------+--------+--------+--------+  \n",
    "| {16}    {17} | {4}    {5} | {8}    {9} | {12}    {13} |  \n",
    "|   r1   |   f0   |   r0   |   f1   |  \n",
    "| {18}    {19} | {6}    {7} | {10}    {11} | {14}    {15} |  \n",
    "+--------+--------+--------+--------+  \n",
    "         | {20}    {21} |                    \n",
    "         |   d0   |                    \n",
    "         | {22}    {23} |                    \n",
    "         +--------+                    \n",
    "\n",
    "      '''\n",
    "        return ascii.format(*self.state)"
   ]
  },
  {
   "cell_type": "markdown",
   "id": "34b95ed1",
   "metadata": {},
   "source": [
    "# Model\n",
    "We can initialize a new model"
   ]
  },
  {
   "cell_type": "code",
   "execution_count": 2,
   "id": "b289cf4f",
   "metadata": {
    "execution": {
     "iopub.execute_input": "2024-01-10T14:09:06.465014Z",
     "iopub.status.busy": "2024-01-10T14:09:06.464296Z",
     "iopub.status.idle": "2024-01-10T14:09:27.844298Z",
     "shell.execute_reply": "2024-01-10T14:09:27.843267Z"
    },
    "papermill": {
     "duration": 21.389,
     "end_time": "2024-01-10T14:09:27.847449",
     "exception": false,
     "start_time": "2024-01-10T14:09:06.458449",
     "status": "completed"
    },
    "tags": []
   },
   "outputs": [
    {
     "name": "stdout",
     "output_type": "stream",
     "text": [
      "Using cpu device\n",
      "Wrapping the env with a `Monitor` wrapper\n",
      "Wrapping the env in a DummyVecEnv.\n"
     ]
    },
    {
     "name": "stderr",
     "output_type": "stream",
     "text": [
      "c:\\Users\\Z004NB2K\\AppData\\Local\\Programs\\Python\\Python310\\lib\\site-packages\\tqdm\\auto.py:21: TqdmWarning: IProgress not found. Please update jupyter and ipywidgets. See https://ipywidgets.readthedocs.io/en/stable/user_install.html\n",
      "  from .autonotebook import tqdm as notebook_tqdm\n"
     ]
    }
   ],
   "source": [
    "from stable_baselines3 import PPO\n",
    "from stable_baselines3.common.env_util import make_vec_env\n",
    "\n",
    "# Parallel environments\n",
    "env = Cube2x2Env()\n",
    "model = PPO(\"MlpPolicy\", env, verbose=1, tensorboard_log='logs/')"
   ]
  },
  {
   "cell_type": "markdown",
   "id": "c22c10d7",
   "metadata": {},
   "source": [
    "Or start from a previous version by loading the corresponding file (This one comes from a previous version of this notebook)"
   ]
  },
  {
   "cell_type": "code",
   "execution_count": 4,
   "id": "a35d7148",
   "metadata": {
    "execution": {
     "iopub.execute_input": "2024-01-10T14:09:27.859838Z",
     "iopub.status.busy": "2024-01-10T14:09:27.857847Z",
     "iopub.status.idle": "2024-01-10T14:09:29.525588Z",
     "shell.execute_reply": "2024-01-10T14:09:29.523590Z"
    },
    "papermill": {
     "duration": 1.676061,
     "end_time": "2024-01-10T14:09:29.528164",
     "exception": true,
     "start_time": "2024-01-10T14:09:27.852103",
     "status": "failed"
    },
    "tags": []
   },
   "outputs": [
    {
     "name": "stdout",
     "output_type": "stream",
     "text": [
      "Wrapping the env with a `Monitor` wrapper\n",
      "Wrapping the env in a DummyVecEnv.\n"
     ]
    }
   ],
   "source": [
    "model = PPO.load(\"cube-solver-1.0.zip\", env, tensorboard_log='logs/',  learning_rate = 0.00003)"
   ]
  },
  {
   "cell_type": "markdown",
   "id": "a23f38fc",
   "metadata": {},
   "source": [
    "Since solving the 2x2 cube from any state is way too hard for the model at first, my idea is to train the model for 1e6 iterations at n-step from the start, starting from 1 to 20. We save the model after each loop. So far, this (quite naive) idea has not been terrible. While the method is slow, it is getting increasingly better results. "
   ]
  },
  {
   "cell_type": "code",
   "execution_count": 5,
   "id": "144c11a3",
   "metadata": {
    "execution": {
     "iopub.execute_input": "2024-01-10T14:07:59.967483Z",
     "iopub.status.busy": "2024-01-10T14:07:59.967080Z",
     "iopub.status.idle": "2024-01-10T14:08:02.949781Z",
     "shell.execute_reply": "2024-01-10T14:08:02.948389Z",
     "shell.execute_reply.started": "2024-01-10T14:07:59.967449Z"
    },
    "papermill": {
     "duration": null,
     "end_time": null,
     "exception": null,
     "start_time": null,
     "status": "pending"
    },
    "tags": []
   },
   "outputs": [
    {
     "name": "stdout",
     "output_type": "stream",
     "text": [
      "Logging to logs/PPO_1\n",
      "---------------------------------\n",
      "| rollout/           |          |\n",
      "|    ep_len_mean     | 1e+03    |\n",
      "|    ep_rew_mean     | -1e+03   |\n",
      "| time/              |          |\n",
      "|    fps             | 690      |\n",
      "|    iterations      | 1        |\n",
      "|    time_elapsed    | 2        |\n",
      "|    total_timesteps | 2048     |\n",
      "---------------------------------\n"
     ]
    }
   ],
   "source": [
    "for i in range(5):\n",
    "    env.steps_from_solved = i\n",
    "    model.learn(total_timesteps=10000000)\n",
    "    model.save('cube-solver-1.' + i)"
   ]
  },
  {
   "cell_type": "code",
   "execution_count": 14,
   "id": "d48b169d",
   "metadata": {
    "execution": {
     "iopub.execute_input": "2024-01-10T14:08:13.087521Z",
     "iopub.status.busy": "2024-01-10T14:08:13.086732Z",
     "iopub.status.idle": "2024-01-10T14:08:13.095501Z",
     "shell.execute_reply": "2024-01-10T14:08:13.094647Z",
     "shell.execute_reply.started": "2024-01-10T14:08:13.087483Z"
    },
    "papermill": {
     "duration": null,
     "end_time": null,
     "exception": null,
     "start_time": null,
     "status": "pending"
    },
    "tags": []
   },
   "outputs": [
    {
     "data": {
      "text/plain": [
       "array([2, 0, 5, 0, 1, 3, 5, 1, 4, 2, 0, 4, 3, 5, 5, 0, 3, 2, 1, 1, 4, 2,\n",
       "       4, 3], dtype=uint8)"
      ]
     },
     "execution_count": 14,
     "metadata": {},
     "output_type": "execute_result"
    }
   ],
   "source": [
    "env.steps_from_solved = 11\n",
    "obs = env.reset()[0];obs"
   ]
  },
  {
   "cell_type": "code",
   "execution_count": 15,
   "id": "f2a824ac",
   "metadata": {
    "execution": {
     "iopub.execute_input": "2024-01-10T14:08:29.224437Z",
     "iopub.status.busy": "2024-01-10T14:08:29.223913Z",
     "iopub.status.idle": "2024-01-10T14:08:35.411071Z",
     "shell.execute_reply": "2024-01-10T14:08:35.409968Z",
     "shell.execute_reply.started": "2024-01-10T14:08:29.224398Z"
    },
    "papermill": {
     "duration": null,
     "end_time": null,
     "exception": null,
     "start_time": null,
     "status": "pending"
    },
    "tags": []
   },
   "outputs": [
    {
     "name": "stdout",
     "output_type": "stream",
     "text": [
      "5231\n"
     ]
    }
   ],
   "source": [
    "dones = False\n",
    "steps = 0\n",
    "while not dones:\n",
    "    action, _states = model.predict(obs)\n",
    "    obs, rewards, dones, _, info = env.step(action.item())\n",
    "    steps += 1 \n",
    "print(steps)"
   ]
  }
 ],
 "metadata": {
  "kaggle": {
   "accelerator": "none",
   "dataSources": [
    {
     "sourceId": 157647845,
     "sourceType": "kernelVersion"
    }
   ],
   "dockerImageVersionId": 30626,
   "isGpuEnabled": false,
   "isInternetEnabled": true,
   "language": "python",
   "sourceType": "notebook"
  },
  "kernelspec": {
   "display_name": "Python 3",
   "language": "python",
   "name": "python3"
  },
  "language_info": {
   "codemirror_mode": {
    "name": "ipython",
    "version": 3
   },
   "file_extension": ".py",
   "mimetype": "text/x-python",
   "name": "python",
   "nbconvert_exporter": "python",
   "pygments_lexer": "ipython3",
   "version": "3.10.7"
  },
  "papermill": {
   "default_parameters": {},
   "duration": 31.760687,
   "end_time": "2024-01-10T14:09:32.194002",
   "environment_variables": {},
   "exception": true,
   "input_path": "__notebook__.ipynb",
   "output_path": "__notebook__.ipynb",
   "parameters": {},
   "start_time": "2024-01-10T14:09:00.433315",
   "version": "2.4.0"
  }
 },
 "nbformat": 4,
 "nbformat_minor": 5
}
