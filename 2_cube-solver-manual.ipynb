{
 "cells": [
  {
   "cell_type": "raw",
   "metadata": {},
   "source": [
    "         Positions                                Solution State\n",
    "\n",
    "         +--------+                               +--------+\n",
    "         | 0    1 |                               | A    A |\n",
    "         |   d1   |                               |   d1   |\n",
    "         | 2    3 |                               | A    A |\n",
    "+--------+--------+--------+--------+    +--------+--------+--------+--------+\n",
    "| 16  17 | 4    5 | 8   9  | 12  13 |    | E    E | B    B | C    C | D    D |\n",
    "|   r1   |   f0   |   r0   |   f1   |    |   r1   |   f0   |   r0   |   f1   |\n",
    "| 18  19 | 6    7 | 10  11 | 14  15 |    | E    E | B    B | C    C | D    D |\n",
    "+--------+--------+--------+--------+    +--------+--------+--------+--------+\n",
    "         | 20  21 |                               | F    F |\n",
    "         |   d0   |                               |   d0   |\n",
    "         | 22  23 |                               | F    F |\n",
    "         +--------+                               +--------+"
   ]
  },
  {
   "cell_type": "code",
   "execution_count": 1,
   "metadata": {},
   "outputs": [],
   "source": [
    "import numpy as np\n",
    "import random\n",
    "import itertools as it\n",
    "from sympy.combinatorics import Permutation\n",
    "import gymnasium as gym\n",
    "from gymnasium import spaces\n",
    "\n",
    "\n",
    "\n",
    "COLOR_MAP = {\n",
    "    \"W\" :0,\n",
    "    \"G\" :1,\n",
    "    \"R\" :2,\n",
    "    \"B\" :3,\n",
    "    \"O\" :4,\n",
    "    \"Y\" :5\n",
    "    }\n",
    "\n",
    "FACES = [\"WWWW\", \"GGGG\", \"RRRR\", \"BBBB\", \"OOOO\", \"YYYY\"]\n",
    "SOLVED_STATE_COLOR = [''.join(faces) for faces in it.permutations(FACES)]\n",
    "SOLVED_STATE_INDEX = np.empty((720,24))\n",
    "\n",
    "for i,s in enumerate(SOLVED_STATE_COLOR):\n",
    "    for j,c in enumerate(s):\n",
    "        SOLVED_STATE_INDEX[i,j] = COLOR_MAP[c]\n",
    "\n",
    "class Cube2x2Env(gym.Env):\n",
    "\n",
    "    def __init__(self):\n",
    "        self.move_count = 0\n",
    "        self._action_to_move = {\n",
    "            0: Permutation(23)(2, 19, 21, 8)(3, 17, 20, 10)(4, 6, 7, 5),\n",
    "            1: Permutation(0, 18, 23, 9)(1, 16, 22, 11)(12, 13, 15, 14),\n",
    "            2: Permutation(1, 5, 21, 14)(3, 7, 23, 12)(8, 10, 11, 9),\n",
    "            3: Permutation(23)(0, 4, 20, 15)(2, 6, 22, 13)(16, 17, 19, 18),\n",
    "            4: Permutation(6, 18, 14, 10)(7, 19, 15, 11)(20, 22, 23, 21),\n",
    "            5: Permutation(23)(0, 1, 3, 2)(4, 16, 12, 8)(5, 17, 13, 9)\n",
    "        }\n",
    "\n",
    "        self.steps_from_solved = 1\n",
    "        \n",
    "        self.action_space = spaces.Discrete(6)\n",
    "        self.observation_space = spaces.Box(0, 5, shape=(24,), dtype=np.uint8)\n",
    "   \n",
    "        self.state = self.scramble()\n",
    "\n",
    "    def step(self, action):\n",
    "        truncated = False\n",
    "        move = self._action_to_move[action]\n",
    "        self.state = move(self.state)\n",
    "        self.move_count += 1\n",
    "        # Calculate reward\n",
    "        if np.any(np.all(self.state == SOLVED_STATE_INDEX, axis=1)): \n",
    "            reward = 1000\n",
    "            done = True\n",
    "        else: \n",
    "            done = False\n",
    "            reward = -1 \n",
    "        \n",
    "        if self.move_count > 1000:\n",
    "            truncated = True\n",
    "        # Return step information\n",
    "        return np.array(self.state), reward, done, truncated, {}\n",
    "    \n",
    "    def scramble(self):\n",
    "        state = SOLVED_STATE_INDEX[0]\n",
    "        for i in range(self.steps_from_solved):\n",
    "            move = self._action_to_move[random.randint(0,5)]\n",
    "            state = move(state)\n",
    "        if np.any(np.all(state == SOLVED_STATE_INDEX, axis=1)):\n",
    "            self.scramble()\n",
    "        return np.array(state, dtype=np.uint8)\n",
    "    \n",
    "    def reset(self, seed=None):\n",
    "        # Reset shower temperature\n",
    "        self.state = self.scramble()\n",
    "        # Reset shower time\n",
    "        self.move_count = 0 \n",
    "        return self.state, {}\n",
    "\n",
    "\n",
    "        \n",
    "\n",
    "    def __repr__(self):\n",
    "        ascii = '''\n",
    "         +--------+                    \n",
    "         | {0}    {1} |                    \n",
    "         |   d1   |                    \n",
    "         | {2}    {3} |                    \n",
    "+--------+--------+--------+--------+  \n",
    "| {16}    {17} | {4}    {5} | {8}    {9} | {12}    {13} |  \n",
    "|   r1   |   f0   |   r0   |   f1   |  \n",
    "| {18}    {19} | {6}    {7} | {10}    {11} | {14}    {15} |  \n",
    "+--------+--------+--------+--------+  \n",
    "         | {20}    {21} |                    \n",
    "         |   d0   |                    \n",
    "         | {22}    {23} |                    \n",
    "         +--------+                    \n",
    "\n",
    "      '''\n",
    "        return ascii.format(*self.state)\n",
    "        \n"
   ]
  },
  {
   "cell_type": "code",
   "execution_count": 2,
   "metadata": {},
   "outputs": [],
   "source": [
    "env = Cube2x2Env()"
   ]
  },
  {
   "cell_type": "code",
   "execution_count": null,
   "metadata": {},
   "outputs": [],
   "source": []
  },
  {
   "cell_type": "markdown",
   "metadata": {},
   "source": [
    "# Create the neural network"
   ]
  },
  {
   "cell_type": "code",
   "execution_count": 3,
   "metadata": {},
   "outputs": [],
   "source": [
    "import torch\n",
    "\n",
    "W1 = torch.randn(24,72)\n",
    "B1 = torch.randn(1,72)\n",
    "W2 = torch.randn(72,72)\n",
    "B2 = torch.randn(1,72)\n",
    "W3 = torch.randn(72,6)\n",
    "B3 = torch.randn(1,6)\n",
    "\n",
    "W1_HAT = W1\n",
    "B1_HAT = B1\n",
    "W2_HAT = W2\n",
    "B2_HAT = B2\n",
    "W3_HAT = W3\n",
    "B3_HAT = B3\n",
    "\n",
    "q_parameters = [W1, B1, W2, B2, W3, B3]\n",
    "for p in q_parameters:\n",
    "  p.requires_grad = True\n",
    "  \n",
    "q_hat_parameters = [W1_HAT, B1_HAT, W2_HAT, B2_HAT, W3_HAT, B3_HAT]"
   ]
  },
  {
   "cell_type": "code",
   "execution_count": 4,
   "metadata": {},
   "outputs": [],
   "source": [
    "def q(input_layer):\n",
    "    layer1 = torch.tanh(input_layer @ W1 + B1)\n",
    "    layer2 = torch.tanh(layer1 @ W2 + B2)\n",
    "    logits = layer2 @ W3 + B3\n",
    "    return logits\n",
    "\n",
    "def q_hat(input_layer):\n",
    "    layer1 = torch.tanh(input_layer @ W1_HAT + B1_HAT)\n",
    "    layer2 = torch.tanh(layer1 @ W2_HAT + B2_HAT)\n",
    "    logits = layer2 @ W3_HAT + B3_HAT\n",
    "    return logits"
   ]
  },
  {
   "cell_type": "markdown",
   "metadata": {},
   "source": [
    "# Hyperparameters"
   ]
  },
  {
   "cell_type": "code",
   "execution_count": 5,
   "metadata": {},
   "outputs": [],
   "source": [
    "MEMORY_SIZE = 100_000     # size of memory buffer\n",
    "GAMMA = 0.995             # discount factor\n",
    "ALPHA = 1e-3              # learning rate  \n",
    "NUM_STEPS_FOR_UPDATE = 4  # perform a learning update every C time steps\n",
    "TAU = 1e-3                # Soft update parameter.\n",
    "MINIBATCH_SIZE = 64     # Mini-batch size."
   ]
  },
  {
   "cell_type": "markdown",
   "metadata": {},
   "source": [
    "# Train the agent"
   ]
  },
  {
   "cell_type": "code",
   "execution_count": 7,
   "metadata": {},
   "outputs": [],
   "source": [
    "import utils\n",
    "from collections import deque, namedtuple \n",
    "\n",
    "num_episodes = 5\n",
    "max_num_timesteps = 1000\n",
    "\n",
    "mean_reward = 0\n",
    "episode_reward_hist = []\n",
    "steps_len_hist = []\n",
    "epsilon = 1.0     # initial ε value for ε-greedy policy\n",
    "\n",
    "# Create a memory buffer with capacity MEMORY_SIZE to store experiences\n",
    "memory_buffer = deque(maxlen=MEMORY_SIZE)\n",
    "experience = namedtuple(\"Experience\", field_names=[\"state\", \"action\", \"reward\", \"next_state\", \"done\"])\n",
    "\n",
    "total_step = 0\n",
    "stepi = []\n",
    "lossi = []\n",
    "\n",
    "for i in range(100):\n",
    "    done = False\n",
    "    state, info = env.reset()\n",
    "    \n",
    "    episode_reward = 0\n",
    "    steps_len = 0\n",
    "    reward_hist = []\n",
    "    for t in range(max_num_timesteps):\n",
    "        state_tensor = torch.tensor(state, dtype=torch.float)\n",
    "        q_values = q(state_tensor)\n",
    "\n",
    "        # picking an action with an ε-greedy policy\n",
    "        if random.random() > epsilon:\n",
    "            action = torch.argmax(q_values.numpy()[0])\n",
    "        else:\n",
    "            action = random.choice(torch.arange(6))\n",
    "\n",
    "        next_state, reward, done, truncated, _ = env.step(action.item())\n",
    "\n",
    "        memory_buffer.append(experience(state_tensor, action, reward, next_state, done))\n",
    "\n",
    "        if (t + 1) % NUM_STEPS_FOR_UPDATE == 0 and len(memory_buffer) > MINIBATCH_SIZE:\n",
    "            minibatch = random.sample(memory_buffer, k=MINIBATCH_SIZE)\n",
    "\n",
    "            states, actions, rewards, next_states, done_vals = utils.extract_experiences(memory_buffer, MINIBATCH_SIZE)\n",
    "\n",
    "            # forward pass for mini-batch\n",
    "            max_q_hat = torch.max(q_hat(next_states), axis=1).values  # we're only taking the value of the best possible action according to Q^ \n",
    "\n",
    "            y_preds = rewards + (1 - done_vals) * GAMMA * max_q_hat\n",
    "\n",
    "            # get the Q networks values \n",
    "            action_indices = torch.tensor([[a.item()] for a in actions],dtype=torch.int64) # we're only taking Q-network predicted value for the action that has been taken\n",
    "            q_values = q(states).gather(1, action_indices).reshape(5,)    \n",
    "\n",
    "            # calculate the loss\n",
    "            loss = torch.sum((y_preds - q_values)**2)/MINIBATCH_SIZE\n",
    "\n",
    "            # reset the parameters' gradient before performing the backward pass\n",
    "            for p in q_parameters:\n",
    "                p.grad = None\n",
    "            loss.backward()\n",
    "\n",
    "            # update Q and Q^ parameters\n",
    "            for p, p_hat in zip(q_parameters, q_hat_parameters):\n",
    "                p.data += -ALPHA * p.grad\n",
    "                p_hat = TAU * p + (1.0 - TAU) * p_hat\n",
    "\n",
    "            stepi.append(total_step)\n",
    "            lossi.append(loss.log10().item())\n",
    "        total_step += 1\n",
    "        steps_len += 1\n",
    "        episode_reward += reward\n",
    "\n",
    "        if done:\n",
    "            break\n",
    "\n",
    "\n",
    "        \n",
    "    steps_len_hist.append(steps_len)\n",
    "    episode_reward_hist.append(episode_reward)\n"
   ]
  },
  {
   "cell_type": "code",
   "execution_count": null,
   "metadata": {},
   "outputs": [
    {
     "data": {
      "text/plain": [
       "[-1000, -1000, -1000, -1000, -1000, -1000, 1000, -1000, 1000, -1000]"
      ]
     },
     "execution_count": 32,
     "metadata": {},
     "output_type": "execute_result"
    }
   ],
   "source": [
    "episode_reward_hist"
   ]
  },
  {
   "cell_type": "code",
   "execution_count": null,
   "metadata": {},
   "outputs": [
    {
     "data": {
      "image/png": "[encoded data removed]",
      "text/plain": [
       "<Figure size 640x480 with 1 Axes>"
      ]
     },
     "metadata": {},
     "output_type": "display_data"
    }
   ],
   "source": [
    "import matplotlib.pyplot as plt \n",
    "plt.plot(stepi, lossi);"
   ]
  }
 ],
 "metadata": {
  "kernelspec": {
   "display_name": "Python 3 (ipykernel)",
   "language": "python",
   "name": "python3"
  },
  "language_info": {
   "codemirror_mode": {
    "name": "ipython",
    "version": 3
   },
   "file_extension": ".py",
   "mimetype": "text/x-python",
   "name": "python",
   "nbconvert_exporter": "python",
   "pygments_lexer": "ipython3",
   "version": "3.10.12"
  }
 },
 "nbformat": 4,
 "nbformat_minor": 4
}
